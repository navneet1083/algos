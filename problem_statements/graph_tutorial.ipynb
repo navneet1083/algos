{
 "cells": [
  {
   "cell_type": "markdown",
   "id": "8788dc1c-1db8-4c5a-8b94-25c6384ca020",
   "metadata": {},
   "source": [
    "## Graph Tutorials"
   ]
  },
  {
   "cell_type": "code",
   "execution_count": null,
   "id": "ea0150a8-975f-45ee-b802-cd8761ad8a45",
   "metadata": {},
   "outputs": [],
   "source": []
  },
  {
   "cell_type": "code",
   "execution_count": 1,
   "id": "e3df9206-091d-42de-8f39-b3d3e0304231",
   "metadata": {
    "tags": []
   },
   "outputs": [],
   "source": [
    "class Node:\n",
    "    def __init__(self, val = 0, neighbors = None):\n",
    "        self.val = val\n",
    "        self.neighbors = neighbors if neighbors is not None else []\n",
    "\n",
    "class Solution:\n",
    "    def cloneGraph(self, node: 'Node') -> 'Node':\n",
    "        oldToNew = {}\n",
    "        \n",
    "        def dfs(node):\n",
    "            if node in oldToNew:\n",
    "                return oldToNew[node]\n",
    "            \n",
    "            copy = Node(node.val)\n",
    "            oldToNew[node] = copy\n",
    "            \n",
    "            for nbr in node.neighbors:\n",
    "                copy.neighbors.append(dfs(nbr))\n",
    "            return copy\n",
    "        \n",
    "        return dfs(node) if node else None"
   ]
  },
  {
   "cell_type": "code",
   "execution_count": 2,
   "id": "394c6019-c6b4-4e36-9abc-35411a19a8c3",
   "metadata": {
    "tags": []
   },
   "outputs": [],
   "source": [
    "sl = Solution()"
   ]
  },
  {
   "cell_type": "code",
   "execution_count": 6,
   "id": "133ca135-7129-4bed-9843-d17b8a87b911",
   "metadata": {
    "tags": []
   },
   "outputs": [
    {
     "ename": "TypeError",
     "evalue": "'Node' object is not callable",
     "output_type": "error",
     "traceback": [
      "\u001b[0;31m---------------------------------------------------------------------------\u001b[0m",
      "\u001b[0;31mTypeError\u001b[0m                                 Traceback (most recent call last)",
      "Cell \u001b[0;32mIn[6], line 2\u001b[0m\n\u001b[1;32m      1\u001b[0m n \u001b[38;5;241m=\u001b[39m Node(\u001b[38;5;241m1\u001b[39m, [\u001b[38;5;241m2\u001b[39m,\u001b[38;5;241m4\u001b[39m])\n\u001b[0;32m----> 2\u001b[0m \u001b[43mn\u001b[49m\u001b[43m(\u001b[49m\u001b[38;5;241;43m2\u001b[39;49m\u001b[43m,\u001b[49m\u001b[43m \u001b[49m\u001b[43m[\u001b[49m\u001b[38;5;241;43m1\u001b[39;49m\u001b[43m,\u001b[49m\u001b[38;5;241;43m4\u001b[39;49m\u001b[43m]\u001b[49m\u001b[43m)\u001b[49m\n\u001b[1;32m      3\u001b[0m n(\u001b[38;5;241m4\u001b[39m, [\u001b[38;5;241m2\u001b[39m,\u001b[38;5;241m3\u001b[39m])\n\u001b[1;32m      4\u001b[0m n(\u001b[38;5;241m3\u001b[39m, [\u001b[38;5;241m1\u001b[39m,\u001b[38;5;241m4\u001b[39m])\n",
      "\u001b[0;31mTypeError\u001b[0m: 'Node' object is not callable"
     ]
    }
   ],
   "source": [
    "n = Node(1, [2,4])\n",
    "n(2, [1,4])\n",
    "n(4, [2,3])\n",
    "n(3, [1,4])"
   ]
  },
  {
   "cell_type": "code",
   "execution_count": 5,
   "id": "51834b78-07db-494f-b8f9-2fa5a886ce9b",
   "metadata": {
    "tags": []
   },
   "outputs": [
    {
     "data": {
      "text/plain": [
       "__main__.Node"
      ]
     },
     "execution_count": 5,
     "metadata": {},
     "output_type": "execute_result"
    }
   ],
   "source": []
  },
  {
   "cell_type": "code",
   "execution_count": null,
   "id": "1359725b-ef77-483e-a9e8-6ac6e32232e4",
   "metadata": {},
   "outputs": [],
   "source": []
  }
 ],
 "metadata": {
  "kernelspec": {
   "display_name": "Python 3 (ipykernel)",
   "language": "python",
   "name": "python3"
  },
  "language_info": {
   "codemirror_mode": {
    "name": "ipython",
    "version": 3
   },
   "file_extension": ".py",
   "mimetype": "text/x-python",
   "name": "python",
   "nbconvert_exporter": "python",
   "pygments_lexer": "ipython3",
   "version": "3.8.16"
  }
 },
 "nbformat": 4,
 "nbformat_minor": 5
}
