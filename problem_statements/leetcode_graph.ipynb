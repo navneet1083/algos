{
 "cells": [
  {
   "cell_type": "markdown",
   "id": "947da5da-5670-4ab5-98f2-7e63b056e030",
   "metadata": {},
   "source": [
    "### Leetcode problems on Graph"
   ]
  },
  {
   "cell_type": "markdown",
   "id": "1f85b224-338b-4883-9bd4-1e2261a8a11d",
   "metadata": {},
   "source": [
    "#### 1291. Sequential Digits"
   ]
  },
  {
   "cell_type": "code",
   "execution_count": 2,
   "id": "3aa6190b-e888-4e3e-8d13-bc4815971569",
   "metadata": {},
   "outputs": [],
   "source": [
    "from typing import List\n"
   ]
  },
  {
   "cell_type": "markdown",
   "id": "e26b5601-3c04-4929-bfeb-5cb5d52c6991",
   "metadata": {},
   "source": [
    "def sequentialDigits(low, high):\n",
    "    \n",
    "    @cache\n",
    "    def get_num(low, high, num):\n",
    "        "
   ]
  },
  {
   "cell_type": "code",
   "execution_count": 1,
   "id": "e6fdaf8e-e1d9-4011-978b-090e1737478e",
   "metadata": {},
   "outputs": [],
   "source": [
    "\n",
    "def get_num(num):\n",
    "    if num == 0:\n",
    "        return 0\n",
    "    if num < 10:\n",
    "        return num\n",
    "    num = get_num(num // 10)\n",
    "    return num"
   ]
  },
  {
   "cell_type": "code",
   "execution_count": 2,
   "id": "81668e47-51bb-47c8-ae4d-ed7c92520bd5",
   "metadata": {},
   "outputs": [
    {
     "name": "stdout",
     "output_type": "stream",
     "text": [
      "num is : 5\n"
     ]
    }
   ],
   "source": [
    "print(f'num is : {get_num(500)}')"
   ]
  },
  {
   "cell_type": "code",
   "execution_count": 23,
   "id": "07e27346-a9c9-42c4-b409-e064076b8494",
   "metadata": {},
   "outputs": [],
   "source": [
    "def form_num(low, high, single_num, prev_num = 0):\n",
    "    if single_num < high:\n",
    "        last_digit = single_num % 10\n",
    "        new_seq = last_digit + 1\n",
    "        prev_num = single_num\n",
    "        single_num = (single_num * 10) + new_seq\n",
    "        if prev_num > low and prev_num < high:\n",
    "            return prev_num\n",
    "        prev_seq = form_num(low, high, single_num, prev_num)\n",
    "        if new_seq > 9:\n",
    "            return 0\n",
    "        return prev_seq\n",
    "        \n",
    "    else:\n",
    "        if prev_num > low and prev_num < high:\n",
    "            return prev_num\n",
    "        else:\n",
    "            return 0\n",
    "    return prev_seq"
   ]
  },
  {
   "cell_type": "code",
   "execution_count": 24,
   "id": "d56d915e-3377-4e7f-9f29-510d4246ddac",
   "metadata": {},
   "outputs": [
    {
     "name": "stdout",
     "output_type": "stream",
     "text": [
      "form num is : 6789\n"
     ]
    }
   ],
   "source": [
    "print(f'form num is : {form_num(1000, 13000, 6)}')"
   ]
  },
  {
   "cell_type": "code",
   "execution_count": 32,
   "id": "aa3bc390-6235-4955-8182-e9324b97b1a5",
   "metadata": {},
   "outputs": [
    {
     "name": "stdout",
     "output_type": "stream",
     "text": [
      "start indx for high : 89\n",
      "123\n",
      "234\n",
      "345\n",
      "456\n",
      "567\n",
      "678\n",
      "789\n",
      "ret res final is : [12, 23, 34, 45, 56, 67, 78, 89, 123, 234, 345, 456, 567, 678, 789]\n"
     ]
    }
   ],
   "source": [
    "# low = 1000\n",
    "# high = 13000\n",
    "low = 10\n",
    "high = 1000000000\n",
    "\n",
    "get_indx_low = get_num(low)\n",
    "get_indx_high = get_num(high)\n",
    "\n",
    "start_indx_for_high = get_indx_low\n",
    "# print(get_indx)\n",
    "\n",
    "ret_res = []\n",
    "\n",
    "for i in range(get_indx_low, 9, 1):\n",
    "    combi = form_num(low, high, i)\n",
    "    if combi != 0:\n",
    "        ret_res.append(combi)\n",
    "        start_indx_for_high = combi\n",
    "\n",
    "print(f'start indx for high : {start_indx_for_high}')\n",
    "for i in range(get_indx_high, 9, 1):\n",
    "      \n",
    "    combi = form_num(start_indx_for_high, high, i)\n",
    "    if combi != 0:\n",
    "        ret_res.append(combi)\n",
    "        print(combi)\n",
    "print(f'ret res final is : {[x for x in ret_res]}')"
   ]
  },
  {
   "cell_type": "code",
   "execution_count": null,
   "id": "75b353c9-d454-4392-9a48-ca75bc976f9e",
   "metadata": {},
   "outputs": [],
   "source": []
  },
  {
   "cell_type": "markdown",
   "id": "698ea4e7-7de6-4fec-8ad3-40cb0dbbc641",
   "metadata": {
    "tags": []
   },
   "source": [
    "#### Numer of Islands"
   ]
  },
  {
   "cell_type": "markdown",
   "id": "55fd5a5b-989d-4e2d-94cd-0643c723286a",
   "metadata": {
    "tags": []
   },
   "source": [
    "Given an `m x n` 2D binary grid `grid` which represents a map of `'1'`s (land) and `'0'`s (water), return the number of islands.\n",
    "\n",
    "An **island** is surrounded by water and is formed by connecting adjacent lands horizontally or vertically. You may assume all four edges of the grid are all surrounded by water.\n",
    "\n",
    "**Example 1**\n",
    "```pyhton\n",
    "Input: grid = [\n",
    "  [\"1\",\"1\",\"1\",\"1\",\"0\"],\n",
    "  [\"1\",\"1\",\"0\",\"1\",\"0\"],\n",
    "  [\"1\",\"1\",\"0\",\"0\",\"0\"],\n",
    "  [\"0\",\"0\",\"0\",\"0\",\"0\"]\n",
    "]\n",
    "Output: 1\n",
    "```\n",
    "\n",
    "**Example 2**\n",
    "\n",
    "```python\n",
    "Input: grid = [\n",
    "  [\"1\",\"1\",\"0\",\"0\",\"0\"],\n",
    "  [\"1\",\"1\",\"0\",\"0\",\"0\"],\n",
    "  [\"0\",\"0\",\"1\",\"0\",\"0\"],\n",
    "  [\"0\",\"0\",\"0\",\"1\",\"1\"]\n",
    "]\n",
    "Output: 3\n",
    "```"
   ]
  },
  {
   "cell_type": "code",
   "execution_count": 46,
   "id": "a135a269-d0a3-448c-8a17-84317d475e9a",
   "metadata": {},
   "outputs": [],
   "source": [
    "from typing import List\n",
    "class Solution:\n",
    "    def dfs(self, grid, row, col):\n",
    "            grid[row][col] = '0'\n",
    "            lst = [(row-1, col), (row+1, col), (row, col-1), (row, col+1)]\n",
    "            for r, c in lst:\n",
    "                if r >= 0 and c >= 0 and r < len(grid) and c < len(grid[r]) and grid[r][c] == '1':\n",
    "                    self.dfs(grid, r, c)\n",
    "                    \n",
    "    def numIslands(self, grid: List[List[str]]) -> int:\n",
    "        is_islands = 0\n",
    "        \n",
    "        for row in range(len(grid)):\n",
    "            for col in range(len(grid[row])):\n",
    "                if grid[row][col] == '1':\n",
    "                    self.dfs(grid, row, col)\n",
    "                    is_islands += 1\n",
    "        return is_islands\n",
    "                             "
   ]
  },
  {
   "cell_type": "code",
   "execution_count": 47,
   "id": "5da804a8-51ca-48fe-87a5-54a82ab7f462",
   "metadata": {},
   "outputs": [
    {
     "name": "stdout",
     "output_type": "stream",
     "text": [
      "3\n"
     ]
    }
   ],
   "source": [
    "sol = Solution()\n",
    "# grid = [[\"1\",\"1\",\"1\",\"1\",\"0\"],[\"1\",\"1\",\"0\",\"1\",\"0\"],[\"1\",\"1\",\"0\",\"0\",\"0\"],[\"0\",\"0\",\"0\",\"0\",\"0\"]]\n",
    "grid = [[\"1\",\"1\",\"0\",\"0\",\"0\"],[\"1\",\"1\",\"0\",\"0\",\"0\"],[\"0\",\"0\",\"1\",\"0\",\"0\"],[\"0\",\"0\",\"0\",\"1\",\"1\"]]\n",
    "print(sol.numIslands(grid))"
   ]
  },
  {
   "cell_type": "markdown",
   "id": "9201a3a6-88fc-4a8e-85e4-400b252c2812",
   "metadata": {},
   "source": [
    "#### 547 Number of provinces\n",
    "\n",
    "\n",
    "There are `n` cities. Some of them are connected, while some are not. If city `a` is connected directly with city `b`, and city `b` is connected directly with city `c`, then city `a` is connected indirectly with city `c`.\n",
    "\n",
    "A **province** is a group of directly or indirectly connected cities and no other cities outside of the group.\n",
    "\n",
    "You are given an `n x n` matrix isConnected where `isConnected[i][j] = 1` if the $i^{th}$ city and the $j^{th}$ city are directly connected, and `isConnected[i][j] = 0` otherwise.\n",
    "\n",
    "Return the total number of **provinces**.\n",
    "\n",
    "\n",
    "**Example 1**\n",
    "\n",
    "![graph_representation](https://assets.leetcode.com/uploads/2020/12/24/graph1.jpg)\n",
    "\n",
    "```python\n",
    "Input: isConnected = [[1,1,0],[1,1,0],[0,0,1]]\n",
    "Output: 2\n",
    "```\n",
    "\n",
    "**Example 2**\n",
    "\n",
    "![graph_representation2](https://assets.leetcode.com/uploads/2020/12/24/graph2.jpg)\n",
    "\n",
    "```python\n",
    "Input: isConnected = [[1,0,0],[0,1,0],[0,0,1]]\n",
    "Output: 3\n",
    "```\n"
   ]
  },
  {
   "cell_type": "code",
   "execution_count": 54,
   "id": "891e997d-b2be-49bb-80b8-a7bc5232f517",
   "metadata": {},
   "outputs": [],
   "source": [
    "class Solution:\n",
    "    def findCircleNum(self, isConnected: List[List[int]]) -> int:\n",
    "        \n",
    "        def dfs(start):\n",
    "            visited.add(start)\n",
    "            for end in range(len(isConnected)):\n",
    "                if isConnected[start][end] and end not in visited:\n",
    "                    dfs(end)\n",
    "        \n",
    "        numOfProvinces = 0\n",
    "        visited = set()\n",
    "        \n",
    "        for start in range(len(isConnected)):\n",
    "            if start not in visited:\n",
    "                numOfProvinces += 1\n",
    "                dfs(start)\n",
    "                \n",
    "        return numOfProvinces\n",
    "                \n",
    "                \n",
    "        "
   ]
  },
  {
   "cell_type": "code",
   "execution_count": 58,
   "id": "b3d83eed-54e1-4726-aa4a-518e501d4705",
   "metadata": {},
   "outputs": [
    {
     "name": "stdout",
     "output_type": "stream",
     "text": [
      "2\n"
     ]
    }
   ],
   "source": [
    "sol = Solution()\n",
    "isConnected = [[1,1,0],[1,1,0],[0,0,1]]\n",
    "print(sol.findCircleNum(isConnected))"
   ]
  },
  {
   "cell_type": "code",
   "execution_count": 57,
   "id": "b302f263-e826-4b5f-afd6-bf2b6f3b3a02",
   "metadata": {},
   "outputs": [
    {
     "name": "stdout",
     "output_type": "stream",
     "text": [
      "0\n",
      "1\n",
      "2\n"
     ]
    }
   ],
   "source": [
    "for start in range(len(isConnected)):\n",
    "    print(start)\n"
   ]
  },
  {
   "cell_type": "markdown",
   "id": "4cc41c8d-bb7c-4d1c-876b-17a3cef28018",
   "metadata": {},
   "source": [
    "#### 394 Decode String\n",
    "\n",
    "Given an encoded string, return its decoded string.\n",
    "\n",
    "The encoding rule is: `k[encoded_string]`, where the `encoded_string` inside the square brackets is being repeated exactly `k` times. Note that `k` is guaranteed to be a positive integer.\n",
    "\n",
    "You may assume that the input string is always valid; there are no extra white spaces, square brackets are well-formed, etc.\n",
    "\n",
    "Furthermore, you may assume that the original data does not contain any digits and that digits are only for those repeat numbers, `k`. For example, there will not be input like `3a` or `2[4]`.\n",
    "\n",
    "\n",
    "**Example 1:**\n",
    "```python\n",
    "Input: s = \"3[a]2[bc]\"\n",
    "Output: \"aaabcbc\"\n",
    "```\n",
    "\n",
    "**Example 2:**\n",
    "```python\n",
    "Input: s = \"3[a2[c]]\"\n",
    "Output: \"accaccacc\"\n",
    "```\n",
    "\n",
    "**Example 3:**\n",
    "```python\n",
    "Input: s = \"2[abc]3[cd]ef\"\n",
    "Output: \"abcabccdcdcdef\"\n",
    "```\n",
    "\n"
   ]
  },
  {
   "cell_type": "code",
   "execution_count": 27,
   "id": "6b70ce96-cfa1-42f7-8c1d-871fc7f4ec8a",
   "metadata": {},
   "outputs": [],
   "source": [
    "class Solution:\n",
    "    def decodeString(self, s: str) -> str:\n",
    "        ret_str = \"\"\n",
    "        brac_stack = []\n",
    "        char_stack = \"\"\n",
    "        mult_stack = \"\"\n",
    "        in_prog = True\n",
    "        prev_int_enc = False\n",
    "        \n",
    "        def permute_str(char_stack, incr):\n",
    "            temp_str = \"\"\n",
    "            for t in range(0, int(incr)):\n",
    "                temp_str += char_stack\n",
    "            return temp_str\n",
    "            \n",
    "        \n",
    "        for char in range(len(s)-1, -1, -1):\n",
    "            if (in_prog or prev_int_enc) and len(brac_stack) == 0 and s[char] not in ['[',']'] and s[char] not in [str(x) for x in range(0, 10)]:\n",
    "                if prev_int_enc:\n",
    "                    prev_int_enc = False\n",
    "                    temp_str = permute_str(char_stack, mult_stack)\n",
    "                    char_stack = temp_str\n",
    "                    if len(brac_stack) == 0:\n",
    "                        char_stack = \"\"\n",
    "                        mult_stack = \"\"\n",
    "                        in_prog = True\n",
    "                        ret_str = temp_str + ret_str\n",
    "                    \n",
    "                ret_str = s[char] + ret_str\n",
    "            else:\n",
    "                in_prog = False\n",
    "                if s[char] == ']':\n",
    "                    if prev_int_enc:\n",
    "                        prev_int_enc = False\n",
    "                        temp_str = permute_str(char_stack, mult_stack)\n",
    "                        char_stack = temp_str\n",
    "                        if len(brac_stack) == 0:\n",
    "                            char_stack = \"\"\n",
    "                            mult_stack = \"\"\n",
    "                            in_prog = True\n",
    "                            ret_str = temp_str + ret_str\n",
    "\n",
    "                    brac_stack.append(s[char])\n",
    "                elif s[char] == '[':\n",
    "                    if prev_int_enc:\n",
    "                        prev_int_enc = False\n",
    "                        temp_str = permute_str(char_stack, mult_stack)\n",
    "                        char_stack = temp_str\n",
    "                        if len(brac_stack) == 0:\n",
    "                            char_stack = \"\"\n",
    "                            mult_stack = \"\"\n",
    "                            in_prog = True\n",
    "                            ret_str = temp_str + ret_str\n",
    "\n",
    "                    brac_stack.pop()\n",
    "                elif s[char] not in ['[',']'] and s[char] not in [str(x) for x in range(0, 10)]:\n",
    "                    if prev_int_enc:\n",
    "                        temp_str = permute_str(char_stack, mult_stack)\n",
    "                        char_stack = temp_str\n",
    "                        if len(brac_stack) == 0:\n",
    "                            char_stack = \"\"\n",
    "                            mult_stack = \"\"\n",
    "                            in_prog = True\n",
    "                            ret_str = temp_str + ret_str\n",
    "\n",
    "                    char_stack = s[char] + char_stack\n",
    "                elif s[char] in [str(x) for x in range(0, 10)]:\n",
    "                    mult_stack = s[char] + mult_stack\n",
    "                    prev_int_enc = True\n",
    "                    \n",
    "        if prev_int_enc:\n",
    "            prev_int_enc = False\n",
    "            temp_str = permute_str(char_stack, mult_stack)\n",
    "            char_stack = temp_str\n",
    "            if len(brac_stack) == 0:\n",
    "                char_stack = \"\"\n",
    "                mult_stack = \"\"\n",
    "                in_prog = True\n",
    "                ret_str = temp_str + ret_str\n",
    "\n",
    "                    \n",
    "                    \n",
    "                    \n",
    "        return ret_str"
   ]
  },
  {
   "cell_type": "code",
   "execution_count": 29,
   "id": "99507218-4fcd-43d3-a336-5c9ac8045f39",
   "metadata": {},
   "outputs": [
    {
     "name": "stdout",
     "output_type": "stream",
     "text": [
      "accaccaccaccaccaccaccaccaccaccaccaccaccaccaccaccaccaccaccaccaccaccaccaccaccaccaccaccaccaccaccaccaccaccaccaccaccaccaccaccaccaccaccaccaccaccaccaccaccaccaccaccaccaccaccaccaccaccaccaccaccaccaccacc\n"
     ]
    }
   ],
   "source": [
    "sol = Solution()\n",
    "# s = \"3[a]2[bc]\"\n",
    "# s = \"b20[tes]ef\"\n",
    "# s = \"b3[a]2[bc]\"\n",
    "s = \"3[a2[c]]\"\n",
    "print(sol.decodeString(s))"
   ]
  },
  {
   "cell_type": "code",
   "execution_count": null,
   "id": "03a5d47d-7da7-44d8-b202-917142c0fed8",
   "metadata": {},
   "outputs": [],
   "source": []
  },
  {
   "cell_type": "code",
   "execution_count": null,
   "id": "ed06f169-6b52-4a1f-bfcb-9b242afd0eea",
   "metadata": {},
   "outputs": [],
   "source": []
  },
  {
   "cell_type": "code",
   "execution_count": null,
   "id": "55286881-460d-462a-a96a-5feafc9623f3",
   "metadata": {},
   "outputs": [],
   "source": []
  },
  {
   "cell_type": "code",
   "execution_count": null,
   "id": "c873629a-03e1-4538-969c-74dbdcf61e37",
   "metadata": {},
   "outputs": [],
   "source": []
  },
  {
   "cell_type": "markdown",
   "id": "408d617f-4a37-4596-8f1a-cfca30863c7f",
   "metadata": {},
   "source": [
    "#### 1209. Remove All Adjacent Duplicates in String II\n",
    "\n",
    "You are given a string s and an integer `k`, a `k` **duplicate removal** consists of choosing `k` adjacent and equal letters from `s` and removing them, causing the left and the right side of the deleted substring to concatenate together.\n",
    "\n",
    "We repeatedly make `k` **duplicate removals** on `s` until we no longer can.\n",
    "\n",
    "Return the final string after all such duplicate removals have been made. It is guaranteed that the answer is unique.\n",
    "\n",
    "\n",
    "**Example 1:**\n",
    "```python\n",
    "Input: s = \"abcd\", k = 2\n",
    "Output: \"abcd\"\n",
    "Explanation: There's nothing to delete.\n",
    "```\n",
    "\n",
    "**Example 2:**\n",
    "```python\n",
    "Input: s = \"deeedbbcccbdaa\", k = 3\n",
    "Output: \"aa\"\n",
    "Explanation: \n",
    "First delete \"eee\" and \"ccc\", get \"ddbbbdaa\"\n",
    "Then delete \"bbb\", get \"dddaa\"\n",
    "Finally delete \"ddd\", get \"aa\"\n",
    "```\n",
    "\n",
    "**Example 3:**\n",
    "```python\n",
    "Input: s = \"pbbcggttciiippooaais\", k = 2\n",
    "Output: \"ps\"\n",
    "```\n",
    "\n"
   ]
  },
  {
   "cell_type": "code",
   "execution_count": 2,
   "id": "16480dbc-7c1d-42f9-8761-38ada2061838",
   "metadata": {},
   "outputs": [],
   "source": [
    "class Solution:\n",
    "    def removeDuplicates(self, s: str, k: int) -> str:\n",
    "        # test = \"\"\n",
    "        for i in range(0, len(s)):\n",
    "            found_cnt = 1\n",
    "            temp_str = s[i]\n",
    "            for j in range(i+1, i+k+1):\n",
    "                if j >= len(s):\n",
    "                    break\n",
    "                if s[i] == s[j]:\n",
    "                    found_cnt += 1\n",
    "                    temp_str += s[i]\n",
    "            if found_cnt == k:\n",
    "                new_str = s.replace(temp_str, \"\")\n",
    "                test = self.removeDuplicates(new_str, k)\n",
    "                # print(f'testing ----- {test}\\n')\n",
    "                return test\n",
    "\n",
    "                \n",
    "        return s"
   ]
  },
  {
   "cell_type": "code",
   "execution_count": 4,
   "id": "7f0ac9da-c51c-4cec-8089-30d99679964f",
   "metadata": {},
   "outputs": [
    {
     "ename": "RecursionError",
     "evalue": "maximum recursion depth exceeded in comparison",
     "output_type": "error",
     "traceback": [
      "\u001b[0;31m---------------------------------------------------------------------------\u001b[0m",
      "\u001b[0;31mRecursionError\u001b[0m                            Traceback (most recent call last)",
      "\u001b[0;32m/var/folders/0s/jymfp69j54n12w613ymxj7vr0000gn/T/ipykernel_80539/2000121003.py\u001b[0m in \u001b[0;36m<module>\u001b[0;34m\u001b[0m\n\u001b[1;32m      6\u001b[0m \u001b[0ms\u001b[0m \u001b[0;34m=\u001b[0m \u001b[0;34m\"ghanyhhhhhttttttthhyyyyyynnnnnnyqkkkkkkkrrrrrrjjjjjjjryyyyyyfffffffygq\"\u001b[0m\u001b[0;34m\u001b[0m\u001b[0;34m\u001b[0m\u001b[0m\n\u001b[1;32m      7\u001b[0m \u001b[0mk\u001b[0m \u001b[0;34m=\u001b[0m \u001b[0;36m7\u001b[0m\u001b[0;34m\u001b[0m\u001b[0;34m\u001b[0m\u001b[0m\n\u001b[0;32m----> 8\u001b[0;31m \u001b[0mprint\u001b[0m\u001b[0;34m(\u001b[0m\u001b[0msol\u001b[0m\u001b[0;34m.\u001b[0m\u001b[0mremoveDuplicates\u001b[0m\u001b[0;34m(\u001b[0m\u001b[0ms\u001b[0m\u001b[0;34m,\u001b[0m \u001b[0mk\u001b[0m\u001b[0;34m)\u001b[0m\u001b[0;34m)\u001b[0m\u001b[0;34m\u001b[0m\u001b[0;34m\u001b[0m\u001b[0m\n\u001b[0m",
      "\u001b[0;32m/var/folders/0s/jymfp69j54n12w613ymxj7vr0000gn/T/ipykernel_80539/2827202147.py\u001b[0m in \u001b[0;36mremoveDuplicates\u001b[0;34m(self, s, k)\u001b[0m\n\u001b[1;32m     13\u001b[0m             \u001b[0;32mif\u001b[0m \u001b[0mfound_cnt\u001b[0m \u001b[0;34m==\u001b[0m \u001b[0mk\u001b[0m\u001b[0;34m:\u001b[0m\u001b[0;34m\u001b[0m\u001b[0;34m\u001b[0m\u001b[0m\n\u001b[1;32m     14\u001b[0m                 \u001b[0mnew_str\u001b[0m \u001b[0;34m=\u001b[0m \u001b[0ms\u001b[0m\u001b[0;34m.\u001b[0m\u001b[0mreplace\u001b[0m\u001b[0;34m(\u001b[0m\u001b[0mtemp_str\u001b[0m\u001b[0;34m,\u001b[0m \u001b[0;34m\"\"\u001b[0m\u001b[0;34m)\u001b[0m\u001b[0;34m\u001b[0m\u001b[0;34m\u001b[0m\u001b[0m\n\u001b[0;32m---> 15\u001b[0;31m                 \u001b[0mtest\u001b[0m \u001b[0;34m=\u001b[0m \u001b[0mself\u001b[0m\u001b[0;34m.\u001b[0m\u001b[0mremoveDuplicates\u001b[0m\u001b[0;34m(\u001b[0m\u001b[0mnew_str\u001b[0m\u001b[0;34m,\u001b[0m \u001b[0mk\u001b[0m\u001b[0;34m)\u001b[0m\u001b[0;34m\u001b[0m\u001b[0;34m\u001b[0m\u001b[0m\n\u001b[0m\u001b[1;32m     16\u001b[0m                 \u001b[0;31m# print(f'testing ----- {test}\\n')\u001b[0m\u001b[0;34m\u001b[0m\u001b[0;34m\u001b[0m\u001b[0;34m\u001b[0m\u001b[0m\n\u001b[1;32m     17\u001b[0m                 \u001b[0;32mreturn\u001b[0m \u001b[0mtest\u001b[0m\u001b[0;34m\u001b[0m\u001b[0;34m\u001b[0m\u001b[0m\n",
      "... last 1 frames repeated, from the frame below ...\n",
      "\u001b[0;32m/var/folders/0s/jymfp69j54n12w613ymxj7vr0000gn/T/ipykernel_80539/2827202147.py\u001b[0m in \u001b[0;36mremoveDuplicates\u001b[0;34m(self, s, k)\u001b[0m\n\u001b[1;32m     13\u001b[0m             \u001b[0;32mif\u001b[0m \u001b[0mfound_cnt\u001b[0m \u001b[0;34m==\u001b[0m \u001b[0mk\u001b[0m\u001b[0;34m:\u001b[0m\u001b[0;34m\u001b[0m\u001b[0;34m\u001b[0m\u001b[0m\n\u001b[1;32m     14\u001b[0m                 \u001b[0mnew_str\u001b[0m \u001b[0;34m=\u001b[0m \u001b[0ms\u001b[0m\u001b[0;34m.\u001b[0m\u001b[0mreplace\u001b[0m\u001b[0;34m(\u001b[0m\u001b[0mtemp_str\u001b[0m\u001b[0;34m,\u001b[0m \u001b[0;34m\"\"\u001b[0m\u001b[0;34m)\u001b[0m\u001b[0;34m\u001b[0m\u001b[0;34m\u001b[0m\u001b[0m\n\u001b[0;32m---> 15\u001b[0;31m                 \u001b[0mtest\u001b[0m \u001b[0;34m=\u001b[0m \u001b[0mself\u001b[0m\u001b[0;34m.\u001b[0m\u001b[0mremoveDuplicates\u001b[0m\u001b[0;34m(\u001b[0m\u001b[0mnew_str\u001b[0m\u001b[0;34m,\u001b[0m \u001b[0mk\u001b[0m\u001b[0;34m)\u001b[0m\u001b[0;34m\u001b[0m\u001b[0;34m\u001b[0m\u001b[0m\n\u001b[0m\u001b[1;32m     16\u001b[0m                 \u001b[0;31m# print(f'testing ----- {test}\\n')\u001b[0m\u001b[0;34m\u001b[0m\u001b[0;34m\u001b[0m\u001b[0;34m\u001b[0m\u001b[0m\n\u001b[1;32m     17\u001b[0m                 \u001b[0;32mreturn\u001b[0m \u001b[0mtest\u001b[0m\u001b[0;34m\u001b[0m\u001b[0;34m\u001b[0m\u001b[0m\n",
      "\u001b[0;31mRecursionError\u001b[0m: maximum recursion depth exceeded in comparison"
     ]
    }
   ],
   "source": [
    "sol = Solution()\n",
    "# s = \"deeedbbcccbdaa\"\n",
    "# k = 3\n",
    "# s = \"pbbcggttciiippooaais\"\n",
    "# k = 2\n",
    "s = \"ghanyhhhhhttttttthhyyyyyynnnnnnyqkkkkkkkrrrrrrjjjjjjjryyyyyyfffffffygq\"\n",
    "k = 7\n",
    "print(sol.removeDuplicates(s, k))"
   ]
  },
  {
   "cell_type": "code",
   "execution_count": null,
   "id": "30b956b3-b48e-4276-a5ee-b45fc3743772",
   "metadata": {},
   "outputs": [],
   "source": []
  },
  {
   "cell_type": "code",
   "execution_count": null,
   "id": "842d7239-2474-44f1-925c-93cd441ae299",
   "metadata": {},
   "outputs": [],
   "source": []
  },
  {
   "cell_type": "code",
   "execution_count": null,
   "id": "a9968408-c633-462b-b1ca-db301268cd1a",
   "metadata": {},
   "outputs": [],
   "source": []
  },
  {
   "cell_type": "code",
   "execution_count": 34,
   "id": "b67db0df-814b-40b6-8377-85a765d6c6ab",
   "metadata": {},
   "outputs": [],
   "source": [
    "import numpy as np\n",
    "class Solution:\n",
    "    def rotate(self, matrix: List[List[int]]) -> None:\n",
    "        \"\"\"\n",
    "        Do not return anything, modify matrix in-place instead.\n",
    "        \"\"\"\n",
    "        temp_mat = np.zeros((len(matrix), len(matrix[0])))\n",
    "        \n",
    "        tot_mat = len(matrix) * len(matrix[0])\n",
    "        odd_val = False\n",
    "        if tot_mat % 2 != 0:\n",
    "            odd_val = True\n",
    "            r = len(matrix) // 2\n",
    "            c = len(matrix) // 2\n",
    "        \n",
    "        temp_val = len(matrix[0])-1\n",
    "        for row in range(len(matrix)):\n",
    "            for col in range(len(matrix[row])):\n",
    "                # 0,0 to 0,max\n",
    "                cur_val = matrix[row][col] # 1, 2\n",
    "                rot_1 = matrix[col][temp_val] # 3, 6\n",
    "                rot_2 = matrix[temp_val][temp_val-col] # 9, 8\n",
    "                rot_3 = matrix[temp_val-col][row] # 7, 4\n",
    "                \n",
    "                if not temp_mat[row][col]:\n",
    "                    if not odd_val and not (row == r and col == c):\n",
    "                        matrix[row][col] = rot_3\n",
    "                    temp_mat[row][col] = 1\n",
    "                if not temp_mat[col][temp_val]:\n",
    "                    if not odd_val and not (row == r and col == c):\n",
    "                        matrix[col][temp_val] = cur_val\n",
    "                    temp_mat[col][temp_val] = 1\n",
    "                if not temp_mat[temp_val][temp_val-col]:\n",
    "                    if not odd_val and not (row == r and col == c):\n",
    "                        matrix[temp_val][temp_val-col] = rot_1\n",
    "                    temp_mat[temp_val][temp_val-col] = 1\n",
    "                if not temp_mat[temp_val-col][row]:\n",
    "                    if not odd_val and not (row == r and col == c):\n",
    "                        matrix[temp_val-col][row] = rot_2\n",
    "                    temp_mat[temp_val-col][row] = 1\n",
    "                \n",
    "            # print(f'matrix is : {matrix}')\n",
    "            temp_val -= 1"
   ]
  },
  {
   "cell_type": "code",
   "execution_count": 35,
   "id": "c32b453e-d126-40b2-982d-9b520fa8fd0f",
   "metadata": {},
   "outputs": [
    {
     "name": "stdout",
     "output_type": "stream",
     "text": [
      "[[1, 2, 3], [4, 5, 6], [7, 8, 9]]\n"
     ]
    }
   ],
   "source": [
    "sol = Solution()\n",
    "\n",
    "matrix = [[1,2,3],[4,5,6],[7,8,9]]\n",
    "# matrix = [[5,1,9,11],[2,4,8,10],[13,3,6,7],[15,14,12,16]]\n",
    "sol.rotate(matrix)\n",
    "print(matrix)"
   ]
  },
  {
   "cell_type": "code",
   "execution_count": null,
   "id": "600bf852-f3dd-4913-9d59-002d00646074",
   "metadata": {},
   "outputs": [],
   "source": []
  }
 ],
 "metadata": {
  "kernelspec": {
   "display_name": "Python 3 (ipykernel)",
   "language": "python",
   "name": "python3"
  },
  "language_info": {
   "codemirror_mode": {
    "name": "ipython",
    "version": 3
   },
   "file_extension": ".py",
   "mimetype": "text/x-python",
   "name": "python",
   "nbconvert_exporter": "python",
   "pygments_lexer": "ipython3",
   "version": "3.8.16"
  }
 },
 "nbformat": 4,
 "nbformat_minor": 5
}
