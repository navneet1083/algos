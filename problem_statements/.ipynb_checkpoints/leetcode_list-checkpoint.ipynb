{
 "cells": [
  {
   "cell_type": "markdown",
   "id": "1ea4afe8-e50b-406d-a36e-bbd8f0be70b7",
   "metadata": {},
   "source": [
    "## LeetCode Problem Statements"
   ]
  },
  {
   "cell_type": "markdown",
   "id": "b8e8412b-246f-4c00-93c3-8fbbe1c9b0bc",
   "metadata": {},
   "source": [
    "### Problem Statement\n",
    "\n",
    "Given an array of integers `nums` and an `integer` target, return indices of the two numbers such that they add up to `target`.\n",
    "\n",
    "You may assume that each input would have **exactly one solution**, and you may not use the same element twice.\n",
    "\n",
    "You can return the answer in any order.\n",
    "\n",
    "**Example 1**\n",
    "```python\n",
    "Input: nums = [2,7,11,15], target = 9\n",
    "Output: [0,1]\n",
    "Explanation: Because nums[0] + nums[1] == 9, we return [0, 1].\n",
    "```\n",
    "\n",
    "**Example 2**\n",
    "```python\n",
    "Input: nums = [3,2,4], target = 6\n",
    "Output: [1,2]\n",
    "```\n",
    "\n",
    "**Example 3**\n",
    "```python\n",
    "Input: nums = [3,3], target = 6\n",
    "Output: [0,1]\n",
    "```\n",
    "\n",
    "**Constraints**\n",
    "- 2 $\\le$ nums.length $\\le$ $10^4$ \n",
    "- $-10^9$ $\\le$ nums[i] $\\le$$10^9$\n",
    "- $-10^9$ $\\le$ target $\\le$$10^9$\n",
    "- **only one valid answer exists**\n",
    "\n"
   ]
  },
  {
   "cell_type": "code",
   "execution_count": 4,
   "id": "acdfdad7-94a9-4f8e-b96e-40cb0bee8a29",
   "metadata": {},
   "outputs": [],
   "source": [
    "## Solutions\n",
    "\n",
    "### Sol1\n",
    "\n",
    "class Solution(object):\n",
    "    def twoSum(self, nums, target):\n",
    "        \"\"\"\n",
    "        :type nums: List[int]\n",
    "        :type target: int\n",
    "        :rtype: List[int]\n",
    "        \"\"\"\n",
    "        # nums.sort()\n",
    "        ret_val = [len(nums)-2, len(nums)-1]\n",
    "        for i in range(0, len(nums)):\n",
    "            for j in range(i+1, len(nums)):\n",
    "                if (nums[i] + nums[j]) == target:\n",
    "                    return [i, j]\n",
    "        return ret_val\n",
    "\n",
    "\n",
    "\n"
   ]
  },
  {
   "cell_type": "markdown",
   "id": "463c3c37-78d7-44af-b30c-547c38e27894",
   "metadata": {},
   "source": [
    "### Complexity Analysis\n",
    "\n",
    "- Time complexity: $O(n^2)$. For each element, we try to find its complement by looping through the rest of the array which takes $O(n)$ time. Therefore, the time complexity is $O(n^2)$.\n",
    "\n",
    "- Space complexity: $O(1)$. The space required does not depend on the size of the input array, so only constant space is used."
   ]
  },
  {
   "cell_type": "code",
   "execution_count": 20,
   "id": "d14253b8-dddf-424e-a733-0881649895eb",
   "metadata": {},
   "outputs": [
    {
     "name": "stdout",
     "output_type": "stream",
     "text": [
      "hashmap is : {2: 0, 7: 1, 11: 2, 15: 3}\n"
     ]
    },
    {
     "data": {
      "text/plain": [
       "[0, 1]"
      ]
     },
     "execution_count": 20,
     "metadata": {},
     "output_type": "execute_result"
    }
   ],
   "source": [
    "# nums = [2,7,11,15]\n",
    "# target = 9\n",
    "nums = [2,7,11,15]\n",
    "target = 9\n",
    "# nums = [3,4,9,6,4]\n",
    "# target = 8\n",
    "\n",
    "t = Solution()\n",
    "t.twoSum(nums, target)"
   ]
  },
  {
   "cell_type": "code",
   "execution_count": 17,
   "id": "2a07e68e-f27c-4e90-b402-4a814f38c7ca",
   "metadata": {},
   "outputs": [],
   "source": [
    "### Sol1\n",
    "\n",
    "class Solution(object):\n",
    "    def twoSum(self, nums, target):\n",
    "            \"\"\"\n",
    "            :type nums: List[int]\n",
    "            :type target: int\n",
    "            :rtype: List[int]\n",
    "            \"\"\"\n",
    "            # nums.sort()\n",
    "            hashmap = {}\n",
    "            for i in range(0, len(nums)):\n",
    "                hashmap[nums[i]] = i\n",
    "            print(f'hashmap is : {hashmap}')\n",
    "            for i in range(0, len(nums)):\n",
    "                lookup_num = target - nums[i]\n",
    "                if lookup_num in hashmap and hashmap[lookup_num] != i:\n",
    "                    return [i, hashmap[lookup_num]]"
   ]
  },
  {
   "cell_type": "code",
   "execution_count": null,
   "id": "f024a019-eb11-43de-9361-e0e58cd2d4a2",
   "metadata": {},
   "outputs": [],
   "source": []
  },
  {
   "cell_type": "markdown",
   "id": "6d7f2c2e-1247-41de-9884-6cb0c4c080b4",
   "metadata": {
    "tags": []
   },
   "source": [
    "### Problem Statement\n",
    "\n",
    "Given a string `s`, find the length of the longest substring without repeating characters.\n",
    "\n",
    "**Example 1:**\n",
    "\n",
    "```python\n",
    "Input: s = \"abcabcbb\"\n",
    "Output: 3\n",
    "Explanation: The answer is \"abc\", with the length of 3.\n",
    "```\n",
    "\n",
    "**Example 2:**\n",
    "\n",
    "```python\n",
    "Input: s = \"bbbbb\"\n",
    "Output: 1\n",
    "Explanation: The answer is \"b\", with the length of 1.\n",
    "```\n",
    "\n",
    "**Example 3:**\n",
    "\n",
    "```python\n",
    "Input: s = \"pwwkew\"\n",
    "Output: 3\n",
    "Explanation: The answer is \"wke\", with the length of 3.\n",
    "Notice that the answer must be a substring, \"pwke\" is a subsequence and not a substring.\n",
    "```\n",
    " \n",
    "**Constraints:**\n",
    "\n",
    "- 0 $\\le$ s.length $\\le$ $5 * 104$\n",
    "- s consists of English letters, digits, symbols and spaces.\n"
   ]
  },
  {
   "cell_type": "code",
   "execution_count": 16,
   "id": "075f751e-f71b-4348-9fc6-3183ac070916",
   "metadata": {},
   "outputs": [],
   "source": [
    "## Solutions\n",
    "\n",
    "### Solution 1\n",
    "\n",
    "\n",
    "class Solution(object):\n",
    "    def lengthOfLongestSubstring(self, s):\n",
    "        \"\"\"\n",
    "        :type s: str\n",
    "        :rtype: int\n",
    "        \"\"\"\n",
    "        lookup_map = {}\n",
    "        prev_str = \"\"\n",
    "        curr_str = \"\"\n",
    "        for st in range(0, len(s)):\n",
    "            curr_str += s[st]\n",
    "            lookup_map[s[st]] = 1\n",
    "            for sub_st in range(st+1, len(s)):\n",
    "                if s[sub_st] not in lookup_map:\n",
    "                    curr_str += s[sub_st]\n",
    "                    lookup_map[s[sub_st]] = 1\n",
    "                else:\n",
    "                    if len(prev_str) <= len(curr_str):\n",
    "                        prev_str = curr_str\n",
    "                        curr_str = \"\"\n",
    "                        lookup_map = {}\n",
    "                        # lookup_map[s[sub_st]] = 1\n",
    "                    break\n",
    "        if len(prev_str) > len(curr_str):\n",
    "            print(f'prev_str : {prev_str}')\n",
    "            return len(prev_str)\n",
    "        else:\n",
    "            print(f'curr_str : {curr_str}')\n",
    "            return len(curr_str)\n",
    "                    \n",
    "            "
   ]
  },
  {
   "cell_type": "code",
   "execution_count": 17,
   "id": "6789d8a8-58ed-4d37-ba06-3ec0b421045a",
   "metadata": {},
   "outputs": [
    {
     "name": "stdout",
     "output_type": "stream",
     "text": [
      "curr_str : abb\n"
     ]
    },
    {
     "data": {
      "text/plain": [
       "3"
      ]
     },
     "execution_count": 17,
     "metadata": {},
     "output_type": "execute_result"
    }
   ],
   "source": [
    "\n",
    "# s = \"abcabcbb\"\n",
    "# s = \"pwwkew\"\n",
    "# s = \"bbbbb\"\n",
    "# s = \"aab\"\n",
    "# s = \"dvdf\"\n",
    "s = \"aab\"\n",
    "\n",
    "sl = Solution()\n",
    "sl.lengthOfLongestSubstring(s)"
   ]
  },
  {
   "cell_type": "code",
   "execution_count": null,
   "id": "b5f8fe33-1b8e-4f22-bca2-505a696313ab",
   "metadata": {},
   "outputs": [],
   "source": []
  },
  {
   "cell_type": "markdown",
   "id": "d9932a20-518a-4d92-8358-3996ac4b5d42",
   "metadata": {},
   "source": [
    "### Problem Statement\n",
    "\n",
    "Given a signed 32-bit integer *x*, return *x* with its digits reversed. If reversing *x* causes the value to go outside the signed 32-bit integer range [-$2^{31}$, $2^{31}$ - 1], then return 0.\n",
    "\n",
    "**Assume the environment does not allow you to store 64-bit integers (signed or unsigned).**\n",
    "\n",
    "**Example 1:**\n",
    "```python\n",
    "Input: x = 123\n",
    "Output: 321\n",
    "```\n",
    "\n",
    "**Example 2:**\n",
    "```python\n",
    "Input: x = -123\n",
    "Output: -321\n",
    "```\n",
    "\n",
    "**Example 3:**\n",
    "```python\n",
    "Input: x = 120\n",
    "Output: 21\n",
    "```\n",
    "\n",
    "**Constraints:**\n",
    "\n",
    "- -$2^{31}$ <= x <= $2^{31}$ - 1\n",
    "\n"
   ]
  },
  {
   "cell_type": "code",
   "execution_count": 29,
   "id": "7e81f301-d871-4d23-83e6-641cd197ade1",
   "metadata": {},
   "outputs": [],
   "source": [
    "## Solutions\n",
    "\n",
    "\n",
    "def reverse(x):\n",
    "        \"\"\"\n",
    "        :type x: int\n",
    "        :rtype: int\n",
    "        \"\"\"\n",
    "        x = int(x)\n",
    "        if x >= 2**31-1 or x <= -2**31:\n",
    "            return 0\n",
    "        else:\n",
    "            conv_str = str(x)\n",
    "            if x >= 0:\n",
    "                revst = conv_str[::-1]\n",
    "            else:\n",
    "                tmp = conv_str[1:]\n",
    "                tmp2 = tmp[::-1]\n",
    "                revst = \"-\" + tmp2\n",
    "            if int(revst) >= 2**31-1 or int(revst) <= -2**31:\n",
    "                return 0\n",
    "            else:\n",
    "                return int(revst)\n",
    "\n"
   ]
  },
  {
   "cell_type": "code",
   "execution_count": 30,
   "id": "894e560f-af9e-4f0d-b22c-77e171d8ea3a",
   "metadata": {},
   "outputs": [
    {
     "data": {
      "text/plain": [
       "321"
      ]
     },
     "execution_count": 30,
     "metadata": {},
     "output_type": "execute_result"
    }
   ],
   "source": [
    "reverse(123)"
   ]
  },
  {
   "cell_type": "code",
   "execution_count": null,
   "id": "4d100100-ea24-4524-b583-b2cb8097fc79",
   "metadata": {},
   "outputs": [],
   "source": []
  },
  {
   "cell_type": "markdown",
   "id": "106ec583-ee22-4364-afdb-3aff257e139d",
   "metadata": {},
   "source": [
    "### Problem Statement\n",
    "\n",
    "Given an integer *x*, return true if *x* is palindrome integer.\n",
    "\n",
    "An integer is a **palindrome** when it reads the same backward as forward.\n",
    "\n",
    "For example, `121` is a palindrome while `123` is not.\n",
    "\n",
    "\n",
    "**Example 1:**\n",
    "```python\n",
    "Input: x = 121\n",
    "Output: true\n",
    "Explanation: 121 reads as 121 from left to right and from right to left.\n",
    "```\n",
    "\n",
    "**Example 2:**\n",
    "```python\n",
    "Input: x = -121\n",
    "Output: false\n",
    "Explanation: From left to right, it reads -121. From right to left, it becomes 121-. Therefore it is not a palindrome.\n",
    "```\n",
    "\n",
    "**Example 3:**\n",
    "```python\n",
    "Input: x = 10\n",
    "Output: false\n",
    "Explanation: Reads 01 from right to left. Therefore it is not a palindrome.\n",
    "```\n",
    " \n",
    "\n",
    "**Constraints:**\n",
    "\n",
    "- -$2^{31}$ <= x <= $2^{31}$ - 1\n"
   ]
  },
  {
   "cell_type": "code",
   "execution_count": null,
   "id": "72cbd510-9151-4d34-9c53-898f66a39ba1",
   "metadata": {},
   "outputs": [],
   "source": [
    "## Solutions\n",
    "\n",
    "\n",
    "def isPalindrome(self, x):\n",
    "        \"\"\"\n",
    "        :type x: int\n",
    "        :rtype: bool\n",
    "        \"\"\"\n",
    "        if x >= 0:\n",
    "            conv_str = str(x)\n",
    "            revst = conv_str[::-1]\n",
    "            if revst == conv_str:\n",
    "                return True\n",
    "            else:\n",
    "                return False\n",
    "        else:\n",
    "            return False"
   ]
  },
  {
   "cell_type": "code",
   "execution_count": 46,
   "id": "d6b8c9ec-99f8-4340-bdf0-fbf72e1dd1cf",
   "metadata": {},
   "outputs": [],
   "source": [
    "def isPalindrome(x):\n",
    "        \"\"\"\n",
    "        :type x: int\n",
    "        :rtype: bool\n",
    "        \"\"\"\n",
    "        rev_num = 0\n",
    "        num = x\n",
    "        if x >= 0:\n",
    "            while num != 0:\n",
    "                digit = num % 10\n",
    "                rev_num = rev_num * 10 + digit\n",
    "                num = num // 10\n",
    "            if x == rev_num:\n",
    "                return True\n",
    "            else:\n",
    "                return False\n",
    "        else:\n",
    "            return False"
   ]
  },
  {
   "cell_type": "code",
   "execution_count": 47,
   "id": "b320be48-ebf8-4cf4-8104-d4f1a4f4b506",
   "metadata": {},
   "outputs": [
    {
     "data": {
      "text/plain": [
       "True"
      ]
     },
     "execution_count": 47,
     "metadata": {},
     "output_type": "execute_result"
    }
   ],
   "source": [
    "isPalindrome(121)"
   ]
  },
  {
   "cell_type": "code",
   "execution_count": null,
   "id": "5a9fe104-5d11-409b-99ab-ca1482dbc0cc",
   "metadata": {},
   "outputs": [],
   "source": []
  },
  {
   "cell_type": "markdown",
   "id": "d3dfc6e2-bc3c-4a1b-8257-845bd0c8f500",
   "metadata": {},
   "source": [
    "### Problem Statement\n",
    "\n",
    "\n",
    "The string `PAYPALISHIRING` is written in a zigzag pattern on a given number of rows like this: (you may want to display this pattern in a fixed font for better legibility)\n",
    "\n",
    "```python\n",
    "P   A   H   N\n",
    "A P L S I I G\n",
    "Y   I   R\n",
    "```\n",
    "And then read line by line: `PAHNAPLSIIGYIR`\n",
    "\n",
    "Write the code that will take a string and make this conversion given a number of rows:\n",
    "\n",
    "```python\n",
    "string convert(string s, int numRows);\n",
    "```\n",
    "\n",
    "\n",
    "**Example 1:**\n",
    "```python\n",
    "Input: s = \"PAYPALISHIRING\", numRows = 3\n",
    "Output: \"PAHNAPLSIIGYIR\"\n",
    "```\n",
    "\n",
    "**Example 2:**\n",
    "```python\n",
    "Input: s = \"PAYPALISHIRING\", numRows = 4\n",
    "Output: \"PINALSIGYAHRPI\"\n",
    "Explanation:\n",
    "P     I    N\n",
    "A   L S  I G\n",
    "Y A   H R\n",
    "P     I\n",
    "```\n",
    "\n",
    "**Example 3:**\n",
    "```python\n",
    "Input: s = \"A\", numRows = 1\n",
    "Output: \"A\"\n",
    "```\n",
    "\n"
   ]
  },
  {
   "cell_type": "code",
   "execution_count": 53,
   "id": "a970dd99-b3b9-4b18-8234-7e51e45879aa",
   "metadata": {},
   "outputs": [],
   "source": [
    "def convert(s, numRows):\n",
    "    if numRows == 1:\n",
    "        return s\n",
    "    count_rows = 0\n",
    "    direction = 1\n",
    "    rows = [\"\" for r in range(numRows)]\n",
    "    for i in range(0, len(s)):\n",
    "        rows[count_rows] += s[i]\n",
    "        if count_rows == numRows - 1:\n",
    "            direction = -1\n",
    "        elif count_rows == 0:\n",
    "            direction = 1\n",
    "        count_rows += direction\n",
    "    return \"\".join(rows)"
   ]
  },
  {
   "cell_type": "code",
   "execution_count": 54,
   "id": "e71e1f53-9adf-4622-b6a0-3176cd6c8cbb",
   "metadata": {},
   "outputs": [
    {
     "data": {
      "text/plain": [
       "'PINALSIGYAHRPI'"
      ]
     },
     "execution_count": 54,
     "metadata": {},
     "output_type": "execute_result"
    }
   ],
   "source": [
    "convert(\"PAYPALISHIRING\", 4)"
   ]
  },
  {
   "cell_type": "code",
   "execution_count": null,
   "id": "e07d6e3d-233c-4fc6-aded-8fc0fd2810f9",
   "metadata": {},
   "outputs": [],
   "source": []
  },
  {
   "cell_type": "markdown",
   "id": "ea77c68e-c81a-48c4-9179-1706ee677dac",
   "metadata": {},
   "source": [
    "### Problem Statement\n",
    "\n",
    "2139. Minimum Moves to Reach Target Score My SubmissionsBack to Contest\n",
    "\n",
    "You are playing a game with integers. You start with the integer `1` and you want to reach the integer `target`.\n",
    "\n",
    "In one move, you can either:\n",
    "\n",
    "- Increment the current integer by one (i.e.,`x = x + 1`).\n",
    "- Double the current integer (i.e., `x = 2 * x`).\n",
    "\n",
    "You can use the **increment** operation **any** number of times, however, you can only use the **double** operation **at most** `maxDoubles` times.\n",
    "\n",
    "Given the two integers `target` and `maxDoubles`, return the minimum number of moves needed to reach `target` starting with `1`."
   ]
  },
  {
   "cell_type": "code",
   "execution_count": 214,
   "id": "5aeca53f-3866-40fc-85b7-6f4c0565fdee",
   "metadata": {},
   "outputs": [],
   "source": [
    "def minMoves(target, maxDoubles=0):\n",
    "    moves = 0\n",
    "    while target > 1:\n",
    "        if target % 2 == 0 and maxDoubles > 0:\n",
    "            target = target // 2\n",
    "            maxDoubles -= 1\n",
    "            moves += 1\n",
    "            continue\n",
    "        if maxDoubles == 0:\n",
    "            moves += target - 1\n",
    "            break\n",
    "        else:\n",
    "            moves += 1\n",
    "            target -= 1\n",
    "    return moves"
   ]
  },
  {
   "cell_type": "code",
   "execution_count": 215,
   "id": "fa69cb95-6a3e-45c1-bb73-6c8d45eb9abd",
   "metadata": {},
   "outputs": [
    {
     "name": "stdout",
     "output_type": "stream",
     "text": [
      "7\n"
     ]
    }
   ],
   "source": [
    "target = 19\n",
    "maxDoubles = 2\n",
    "\n",
    "print(minMoves(target, maxDoubles=maxDoubles))"
   ]
  },
  {
   "cell_type": "code",
   "execution_count": null,
   "id": "215180ab-efaa-4335-88c7-c8ba7d3f1879",
   "metadata": {},
   "outputs": [],
   "source": []
  },
  {
   "cell_type": "code",
   "execution_count": null,
   "id": "7a3f7a8a-15b9-4828-9bda-4f10c6fee18f",
   "metadata": {},
   "outputs": [],
   "source": []
  },
  {
   "cell_type": "code",
   "execution_count": null,
   "id": "248c6677-6997-4b6c-8637-2f489937f9d6",
   "metadata": {},
   "outputs": [],
   "source": []
  },
  {
   "cell_type": "code",
   "execution_count": 84,
   "id": "d4f9166a-68c6-43bb-9a08-06f571d40b0b",
   "metadata": {},
   "outputs": [],
   "source": [
    "def addTwoNumbers(l1, l2):\n",
    "        \"\"\"\n",
    "        :type l1: ListNode\n",
    "        :type l2: ListNode\n",
    "        :rtype: ListNode\n",
    "        \"\"\"\n",
    "        if l1 == 0 and l2 == 0:\n",
    "            return 0\n",
    "        result = []\n",
    "        if len(l1) == len(l2):\n",
    "            carr_ov = 0\n",
    "            for indx in range(len(l1)-1, -1, -1):\n",
    "                sum_val = int(l1[indx]) + int(l2[indx]) + carr_ov\n",
    "                if sum_val >= 9:\n",
    "                    ext_val = sum_val % 10\n",
    "                    carr_ov = sum_val // 10\n",
    "                    result.append(ext_val)\n",
    "                    if indx == 0:\n",
    "                        result.append(carr_ov)\n",
    "                else:\n",
    "                    carr_ov = 0\n",
    "                    result.append(sum_val)\n",
    "        if len(l1) > len(l2):\n",
    "            carr_ov = 0\n",
    "            lower_indx = len(l2)-1\n",
    "            for indx in range(len(l1)-1, -1, -1):\n",
    "                if lower_indx >= 0:\n",
    "                    sum_val = int(l1[indx]) + int(l2[lower_indx]) + carr_ov\n",
    "                    lower_indx -= 1\n",
    "                else:\n",
    "                    sum_val = int(l1[indx]) + carr_ov\n",
    "                if sum_val >= 9:\n",
    "                    ext_val = sum_val % 10\n",
    "                    carr_ov = sum_val // 10\n",
    "                    result.append(ext_val)\n",
    "                    if indx == 0:\n",
    "                        result.append(carr_ov)\n",
    "                else:\n",
    "                    carr_ov = 0\n",
    "                    result.append(sum_val)\n",
    "        return result"
   ]
  },
  {
   "cell_type": "code",
   "execution_count": 86,
   "id": "e4d748eb-5d73-4a2b-9d0e-9ef53c34d786",
   "metadata": {},
   "outputs": [
    {
     "data": {
      "text/plain": [
       "[8, 9, 9, 9, 0, 0, 0, 1]"
      ]
     },
     "execution_count": 86,
     "metadata": {},
     "output_type": "execute_result"
    }
   ],
   "source": [
    "# l1 = [4,4,3]\n",
    "# l2 = [5,6,4]\n",
    "l1 = [9,9,9,9,9,9,9]\n",
    "l2 = [9,9,9,9]\n",
    "addTwoNumbers(l1, l2)"
   ]
  },
  {
   "cell_type": "code",
   "execution_count": 100,
   "id": "e426d56a-09b4-471e-89cb-083351055396",
   "metadata": {},
   "outputs": [],
   "source": [
    "class ListNode(object):\n",
    "    def __init__(self, val=0, next=None):\n",
    "        self.val = val\n",
    "        self.next = next\n",
    "        \n",
    "class Solution(object):\n",
    "    def addTwoNumbers(self, l1, l2):\n",
    "        \"\"\"\n",
    "        :type l1: ListNode\n",
    "        :type l2: ListNode\n",
    "        :rtype: ListNode\n",
    "        \"\"\"\n",
    "        carr_ov = 0\n",
    "        result_node = ListNode(0)\n",
    "        curr = result_node\n",
    "        while l1 is not None or l2 is not None:\n",
    "            l1_val = l1.val if l1 is not None else 0\n",
    "            l2_val = l2.val if l2 is not None else 0\n",
    "            sum_val = l1_val + l2_val + carr_ov\n",
    "            carr_ov = sum_val // 10\n",
    "            \n",
    "            curr.next = ListNode(sum_val % 10)\n",
    "            curr = curr.next\n",
    "            if l1 is not None:\n",
    "                l1 = l1.next\n",
    "            if l2 is not None:\n",
    "                l2 = l2.next\n",
    "        if carr_ov > 0:\n",
    "            curr.next = ListNode(carr_ov)\n",
    "        return result_node.next"
   ]
  },
  {
   "cell_type": "code",
   "execution_count": 111,
   "id": "eb1f76af-a7ce-479c-9725-3de5e280eb12",
   "metadata": {},
   "outputs": [
    {
     "name": "stdout",
     "output_type": "stream",
     "text": [
      "[8, 9, 9, 9, 0, 0, 0, 1]\n"
     ]
    }
   ],
   "source": [
    "l1 = [9,9,9,9,9,9,9]\n",
    "l2 = [9,9,9,9]\n",
    "\n",
    "ll1 = ListNode(0)\n",
    "curr_l1 = ll1\n",
    "\n",
    "ll2 = ListNode(0)\n",
    "curr_l2 = ll2\n",
    "\n",
    "for l in l1:\n",
    "    curr_l1.next = ListNode(l)\n",
    "    curr_l1 = curr_l1.next\n",
    "# print(ll1.next)\n",
    "for l in l2:\n",
    "    curr_l2.next = ListNode(l)\n",
    "    curr_l2 = curr_l2.next\n",
    "\n",
    "sol = Solution()\n",
    "res = sol.addTwoNumbers(ll1.next, ll2.next)\n",
    "\n",
    "result = []\n",
    "while res is not None:\n",
    "    # print(type(res.val))\n",
    "    result.append(res.val)\n",
    "    res = res.next\n",
    "print(result)"
   ]
  },
  {
   "cell_type": "code",
   "execution_count": 109,
   "id": "1ce68d09-3c1a-4927-a3c2-846bfe9aeec4",
   "metadata": {},
   "outputs": [
    {
     "name": "stdout",
     "output_type": "stream",
     "text": [
      "l is : 2\n",
      "l is : 4\n",
      "l is : 3\n",
      "None\n"
     ]
    }
   ],
   "source": [
    "l1 = [2,4,3]\n",
    "l2 = [5,6,4]\n",
    "\n",
    "l1_nod = ListNode(0)\n",
    "for l in l1:\n",
    "    print(f'l is : {l}')\n",
    "    l1_nod.next = ListNode(l)\n",
    "\n",
    "print(l1_nod.next.next)"
   ]
  },
  {
   "cell_type": "code",
   "execution_count": null,
   "id": "a014e300-2708-4ef0-97d3-33c71c4b5309",
   "metadata": {},
   "outputs": [],
   "source": []
  },
  {
   "cell_type": "code",
   "execution_count": null,
   "id": "c83bdb2b-3336-4da0-aed3-2eb3e5e3457e",
   "metadata": {},
   "outputs": [],
   "source": []
  },
  {
   "cell_type": "code",
   "execution_count": 133,
   "id": "7ce8a7f8-9444-40f6-af26-7b8cbab3b187",
   "metadata": {},
   "outputs": [
    {
     "name": "stdout",
     "output_type": "stream",
     "text": [
      "[['a', 'b', 'c'], ['g', 'h', 'i'], ['j', 'k', 'l']]\n",
      "['', '', '']\n",
      "---------------\n",
      "['g', 'h', 'i']\n",
      "['j', 'k', 'l']\n"
     ]
    }
   ],
   "source": [
    "digits = \"245\"\n",
    "km = {\n",
    "        2: [\"a\",\"b\",\"c\"],\n",
    "        3: [\"d\",\"e\",\"f\"],\n",
    "        4: [\"g\",\"h\",\"i\"],\n",
    "        5: [\"j\",\"k\",\"l\"],\n",
    "        6: [\"m\",\"n\",\"o\"],\n",
    "        7: [\"p\",\"q\",\"r\",\"s\"],\n",
    "        8: [\"t\",\"u\",\"v\"],\n",
    "        9: [\"w\",\"x\",\"y\",\"z\"]\n",
    "    }\n",
    "\n",
    "al_poss_com = [km[int(i)] for i in list(digits)]\n",
    "res_poss_com = [\"\" for i in list(digits)]\n",
    "print(al_poss_com)\n",
    "print(res_poss_com)\n",
    "\n",
    "print('-'*15)\n",
    "\n",
    "# fl_cntrl = True\n",
    "# while fl_cntrl:\n",
    "for j in range(1, len(al_poss_com)):\n",
    "    print(al_poss_com[j])\n",
    "    \n"
   ]
  },
  {
   "cell_type": "code",
   "execution_count": 120,
   "id": "06394e45-9a16-4d4a-abc4-a46df91dcb04",
   "metadata": {},
   "outputs": [
    {
     "name": "stdout",
     "output_type": "stream",
     "text": [
      "3\n",
      "4\n",
      "5\n"
     ]
    }
   ],
   "source": [
    "digits = \"345\"\n",
    "for i in list(digits):\n",
    "    print(i)"
   ]
  },
  {
   "cell_type": "code",
   "execution_count": null,
   "id": "486519b6-4109-4f3a-ba70-6541b6f932d6",
   "metadata": {},
   "outputs": [],
   "source": []
  },
  {
   "cell_type": "code",
   "execution_count": 210,
   "id": "338465b8-fe46-457b-9dbf-a099579b6fd0",
   "metadata": {},
   "outputs": [],
   "source": [
    "def minMoves(target, maxDoubles=0):\n",
    "    moves = 0\n",
    "    while target > 1:\n",
    "        if target % 2 == 0 and maxDoubles > 0:\n",
    "            target = target // 2\n",
    "            maxDoubles -= 1\n",
    "            moves += 1\n",
    "            continue\n",
    "        if maxDoubles == 0:\n",
    "            moves += target - 1\n",
    "            break\n",
    "        else:\n",
    "            moves += 1\n",
    "            target -= 1\n",
    "    return moves"
   ]
  },
  {
   "cell_type": "code",
   "execution_count": 213,
   "id": "e6376d25-e845-4517-8de3-023c9c7649db",
   "metadata": {},
   "outputs": [
    {
     "name": "stdout",
     "output_type": "stream",
     "text": [
      "7\n"
     ]
    }
   ],
   "source": [
    "target = 19\n",
    "maxDoubles = 2\n",
    "\n",
    "print(minMoves(target, maxDoubles=maxDoubles))"
   ]
  },
  {
   "cell_type": "code",
   "execution_count": null,
   "id": "ebae352e-7d45-4c14-a1ba-0798880283ad",
   "metadata": {},
   "outputs": [],
   "source": []
  },
  {
   "cell_type": "code",
   "execution_count": 228,
   "id": "2aa89e99-759e-44f3-a806-c2434f050ae5",
   "metadata": {},
   "outputs": [],
   "source": [
    "def mostPoints(questions: List[List[int]]) -> int:\n",
    "    N = len(questions)\n",
    "    best = [0] * (N+1)\n",
    "    \n",
    "    def go(i):\n",
    "        if i >= N:\n",
    "            return 0\n",
    "        \n",
    "        best = 0\n",
    "        best = max(go(i+1), best)\n",
    "        best = max(go(i + questions[i][1] + 1) + questions[i][0], best)\n",
    "        \n",
    "        return best\n",
    "    return go(0)\n",
    "\n"
   ]
  },
  {
   "cell_type": "code",
   "execution_count": 229,
   "id": "bd6769d5-ced9-4768-9cb8-3ffcaf8f7f09",
   "metadata": {},
   "outputs": [
    {
     "name": "stdout",
     "output_type": "stream",
     "text": [
      "5\n"
     ]
    }
   ],
   "source": [
    "questions = [[3,2],[4,3],[4,4],[2,5]]\n",
    "\n",
    "print(mostPoints(questions=questions))"
   ]
  },
  {
   "cell_type": "code",
   "execution_count": 218,
   "id": "b63c7119-0be1-4d2a-b2b6-a7c9ec26079a",
   "metadata": {},
   "outputs": [],
   "source": [
    "N = len(questions)"
   ]
  },
  {
   "cell_type": "code",
   "execution_count": 220,
   "id": "43eecb62-d4fa-4f9a-b073-cf76020d6fc7",
   "metadata": {},
   "outputs": [
    {
     "data": {
      "text/plain": [
       "[0, 0, 0, 0, 0]"
      ]
     },
     "execution_count": 220,
     "metadata": {},
     "output_type": "execute_result"
    }
   ],
   "source": [
    "\n",
    "[0] * (N+1)"
   ]
  },
  {
   "cell_type": "code",
   "execution_count": null,
   "id": "7829282d-3b44-4a77-ad4d-6d488f13dab3",
   "metadata": {},
   "outputs": [],
   "source": []
  }
 ],
 "metadata": {
  "kernelspec": {
   "display_name": "Python 3 (ipykernel)",
   "language": "python",
   "name": "python3"
  },
  "language_info": {
   "codemirror_mode": {
    "name": "ipython",
    "version": 3
   },
   "file_extension": ".py",
   "mimetype": "text/x-python",
   "name": "python",
   "nbconvert_exporter": "python",
   "pygments_lexer": "ipython3",
   "version": "3.8.12"
  }
 },
 "nbformat": 4,
 "nbformat_minor": 5
}
