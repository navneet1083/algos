{
 "cells": [
  {
   "cell_type": "markdown",
   "id": "8788dc1c-1db8-4c5a-8b94-25c6384ca020",
   "metadata": {},
   "source": [
    "## Graph Tutorials"
   ]
  },
  {
   "cell_type": "code",
   "execution_count": null,
   "id": "ea0150a8-975f-45ee-b802-cd8761ad8a45",
   "metadata": {},
   "outputs": [],
   "source": []
  }
 ],
 "metadata": {
  "kernelspec": {
   "display_name": "Python 3 (ipykernel)",
   "language": "python",
   "name": "python3"
  },
  "language_info": {
   "codemirror_mode": {
    "name": "ipython",
    "version": 3
   },
   "file_extension": ".py",
   "mimetype": "text/x-python",
   "name": "python",
   "nbconvert_exporter": "python",
   "pygments_lexer": "ipython3",
   "version": "3.8.12"
  }
 },
 "nbformat": 4,
 "nbformat_minor": 5
}
