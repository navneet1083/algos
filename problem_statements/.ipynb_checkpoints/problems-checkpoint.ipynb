{
 "cells": [
  {
   "cell_type": "markdown",
   "id": "8c00321b-93c4-4578-8e81-8cdc9493289a",
   "metadata": {},
   "source": [
    "## Problems related to `Data Structures & Algorithm`"
   ]
  },
  {
   "cell_type": "markdown",
   "id": "efd27cd8-39f5-4c7d-bcec-a266ca754a50",
   "metadata": {},
   "source": [
    "### Problem statements:\n",
    "\n",
    "A cafeteria table consists of a row of **N** seats, numbered from **1** to **N** from left to right. Social distancing guidelines require that every diner be seated such that **K** seats to their left and **K** seats to their right (or all the remaining seats to that side if there are fewer than K) remain empty.\n",
    "\n",
    "There are currently **M** diners seated at the table, the **i**th of whom is in seat $S_i$. No two diners are sitting in the same seat, and the social distancing guidelines are satisfied.\n",
    "\n",
    "Determine the maximum number of additional diners who can potentially sit at the table without social distancing guidelines being violated for any new or existing diners, assuming that the existing diners cannot move and that the additional diners will cooperate to maximize how many of them can sit down.\n",
    "\n",
    "> Please take care to write a solution which runs within the time limit.\n",
    "\n",
    "**Constraints**\n",
    "\n",
    "$1\\leq N\\leq 10^{15}$\n",
    "\n",
    "$1\\leq K\\leq N$\n",
    "\n",
    "$1\\leq M \\leq 500,000$\n",
    "\n",
    "$1\\leq S_i \\leq N$\n",
    "\n",
    "\n",
    "**Sample test case #1**\n",
    "\n",
    "\n",
    "|N = 10 <br> K = 1 <br> M = 2 <br> S = [2, 6]|    &nbsp; &nbsp;   |Expected Return Value = 3|\n",
    "|:--------------------------------------------|                    |-------------------------|\n",
    "\n",
    "\n",
    "<br> <br> <br> <br>\n",
    "\n",
    "**Sample test case #2**\n",
    "\n",
    "|N = 15 <br> K = 2 <br> M = 3 <br> S = [11, 6, 14]|    &nbsp; &nbsp;   |Expected Return Value = 1|\n",
    "|:------------------------------------------------|                    |-------------------------|\n",
    "\n",
    "\n",
    "<br> <br> <br> <br>\n",
    "\n",
    "**Sample Explanation**\n",
    "\n",
    "In the first case, the cafeteria table has **N = 10** seats, with two diners currently at seats **2** and **6** respectively. The table initially looks as follows, with brackets covering the **K = 1** seat to the left and right of each existing diner that may not be taken.\n",
    "\n",
    "\n"
   ]
  },
  {
   "cell_type": "code",
   "execution_count": 2,
   "id": "25cde292-e932-410e-87b9-a5049896a50b",
   "metadata": {},
   "outputs": [
    {
     "data": {
      "text/html": [
       "<style>\n",
       "table {float:left}\n",
       "</style>\n"
      ],
      "text/plain": [
       "<IPython.core.display.HTML object>"
      ]
     },
     "metadata": {},
     "output_type": "display_data"
    }
   ],
   "source": [
    "%%html\n",
    "<style>\n",
    "table {float:left}\n",
    "</style>"
   ]
  },
  {
   "cell_type": "code",
   "execution_count": 40,
   "id": "4b304579-0aee-480b-88ec-2ce330c2ef2e",
   "metadata": {},
   "outputs": [],
   "source": [
    "from typing import List\n",
    "# Write any import statements here\n",
    "\n",
    "def getMaxAdditionalDinersCount(N: int, K: int, M: int, S: List[int]) -> int:\n",
    "    # Write your code here\n",
    "    S.sort()\n",
    "    s_index = 0\n",
    "    ret_val = 0\n",
    "    prev_comp_val = 0\n",
    "    assgn_val = True\n",
    "    comp_val = 0\n",
    "\n",
    "    for indx in range(1, N+1):\n",
    "        if assgn_val:\n",
    "            comp_val = S[s_index]\n",
    "        if comp_val == indx and s_index+1 < M:\n",
    "            s_index += 1\n",
    "            prev_comp_val = comp_val\n",
    "\n",
    "        # if (comp_val+K < indx or indx+K < comp_val) and prev_comp_val != 0 and prev_comp_val+K < indx:\n",
    "        if (indx <= comp_val and indx+K < comp_val):\n",
    "            if prev_comp_val != 0:\n",
    "                if prev_comp_val+K < indx:\n",
    "                    print(f'indx val : {indx}')\n",
    "                    ret_val += 1\n",
    "        elif (indx >= comp_val and comp_val+K < indx and prev_comp_val+K < indx):\n",
    "            print(f'**indx val : {indx} :: s_index : {s_index}')\n",
    "            ret_val += 1\n",
    "            if s_index+1 >= M:\n",
    "                assgn_val = False\n",
    "                comp_val = indx\n",
    "\n",
    "    return ret_val"
   ]
  },
  {
   "cell_type": "code",
   "execution_count": 41,
   "id": "043587a8-4245-4959-8527-16dff269d5be",
   "metadata": {},
   "outputs": [],
   "source": [
    "N = 10\n",
    "K = 1\n",
    "M = 2\n",
    "S = [2, 6]"
   ]
  },
  {
   "cell_type": "code",
   "execution_count": null,
   "id": "47a30960-96e6-4476-9cbd-8a9f3a7e4391",
   "metadata": {},
   "outputs": [],
   "source": [
    "N = 15\n",
    "K = 2\n",
    "M = 3\n",
    "S = [11, 6, 14]"
   ]
  },
  {
   "cell_type": "code",
   "execution_count": 42,
   "id": "fb858f5b-817b-4810-8b12-6b3edc0af240",
   "metadata": {},
   "outputs": [
    {
     "name": "stdout",
     "output_type": "stream",
     "text": [
      "indx val : 4\n",
      "**indx val : 8 :: s_index : 1\n",
      "**indx val : 10 :: s_index : 1\n"
     ]
    },
    {
     "data": {
      "text/plain": [
       "3"
      ]
     },
     "execution_count": 42,
     "metadata": {},
     "output_type": "execute_result"
    }
   ],
   "source": [
    "getMaxAdditionalDinersCount(N, K, M, S)"
   ]
  },
  {
   "cell_type": "code",
   "execution_count": null,
   "id": "8b4edc44-65b0-4365-a8a1-d2585dbe9fda",
   "metadata": {},
   "outputs": [],
   "source": []
  }
 ],
 "metadata": {
  "kernelspec": {
   "display_name": "Python 3 (ipykernel)",
   "language": "python",
   "name": "python3"
  },
  "language_info": {
   "codemirror_mode": {
    "name": "ipython",
    "version": 3
   },
   "file_extension": ".py",
   "mimetype": "text/x-python",
   "name": "python",
   "nbconvert_exporter": "python",
   "pygments_lexer": "ipython3",
   "version": "3.8.12"
  }
 },
 "nbformat": 4,
 "nbformat_minor": 5
}
