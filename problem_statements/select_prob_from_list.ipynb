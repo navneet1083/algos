{
 "cells": [
  {
   "cell_type": "code",
   "execution_count": null,
   "id": "d7c33b1c-ba32-478c-babc-ae704f584600",
   "metadata": {},
   "outputs": [],
   "source": []
  },
  {
   "cell_type": "code",
   "execution_count": 53,
   "id": "db322298-7304-4a5a-a42d-786124a97d8f",
   "metadata": {},
   "outputs": [],
   "source": [
    "class LRUCache(object):\n",
    "\n",
    "    def __init__(self, capacity):\n",
    "        \"\"\"\n",
    "        :type capacity: int\n",
    "        \"\"\"\n",
    "        self.queue = []\n",
    "        self.dmap = {}\n",
    "        self.capacity = capacity\n",
    "        self.curr_pointer = capacity\n",
    "        self.counter = 1\n",
    "        self.keys_seq = []\n",
    "        \n",
    "\n",
    "    def get(self, key):\n",
    "        \"\"\"\n",
    "        :type key: int\n",
    "        :rtype: int\n",
    "        \"\"\"\n",
    "        if key not in self.dmap:\n",
    "            return -1\n",
    "        else:\n",
    "            self.keys_seq.remove(key)\n",
    "            self.keys_seq.append(key)\n",
    "            return self.dmap[key][0]\n",
    "        \n",
    "\n",
    "    def put(self, key, value):\n",
    "        \"\"\"\n",
    "        :type key: int\n",
    "        :type value: int\n",
    "        :rtype: None\n",
    "        \"\"\"\n",
    "        if self.counter > self.capacity:\n",
    "            # evicts last consumed data\n",
    "            if self.curr_pointer != 0:\n",
    "                rem_key = self.keys_seq[self.curr_pointer-1]\n",
    "                if rem_key in self.dmap:\n",
    "                    prev_val = self.dmap[rem_key]\n",
    "                    if len(prev_val) > 1:\n",
    "                        self.dmap[rem_key].pop(0)\n",
    "                    else:\n",
    "                        self.dmap.pop(rem_key, None)\n",
    "                if key in self.dmap:\n",
    "                    self.dmap[key].append(value)\n",
    "                else:\n",
    "                    self.dmap[key] = [value]\n",
    "                self.curr_pointer -= 1\n",
    "            else:\n",
    "                self.curr_pointer = capacity\n",
    "                self.dmap[key] = [value]\n",
    "        else:\n",
    "            self.keys_seq.append(key)\n",
    "            self.dmap[key] = [value]\n",
    "            self.counter += 1"
   ]
  },
  {
   "cell_type": "code",
   "execution_count": 45,
   "id": "4e87b31b-3027-426a-8965-c0d1f7243e64",
   "metadata": {},
   "outputs": [
    {
     "name": "stdout",
     "output_type": "stream",
     "text": [
      "<class 'list'>\n",
      "None\n",
      "{1: [2, 5, 5], 2: [4]}\n"
     ]
    }
   ],
   "source": [
    "dmap = {}\n",
    "dmap[1] = [2]\n",
    "dmap[2] = [4]\n",
    "if 1 in dmap:\n",
    "    prev_val = dmap[1]\n",
    "    print(type(prev_val))\n",
    "    t = dmap[1].append(5)\n",
    "    print(t)\n",
    "    dmap[1].append(5)\n",
    "print(dmap)"
   ]
  },
  {
   "cell_type": "code",
   "execution_count": 43,
   "id": "ca859d7f-9bed-427a-bf8a-10d48fc2ac7d",
   "metadata": {},
   "outputs": [],
   "source": [
    "t = [2]\n",
    "t.append(3)"
   ]
  },
  {
   "cell_type": "code",
   "execution_count": 44,
   "id": "a547efb1-6229-4b7e-b815-04be7974817a",
   "metadata": {},
   "outputs": [
    {
     "data": {
      "text/plain": [
       "[2, 3]"
      ]
     },
     "execution_count": 44,
     "metadata": {},
     "output_type": "execute_result"
    }
   ],
   "source": [
    "t"
   ]
  },
  {
   "cell_type": "code",
   "execution_count": null,
   "id": "513bd278-9482-4535-a8f3-e2445d2d2fa2",
   "metadata": {},
   "outputs": [],
   "source": []
  },
  {
   "cell_type": "markdown",
   "id": "1baa4d30-7bdb-442f-ab47-351e0386af5d",
   "metadata": {},
   "source": [
    "**Example 1**\n",
    "\n",
    "```python\n",
    "Input\n",
    "[\"LRUCache\", \"put\", \"put\", \"get\", \"put\", \"get\", \"put\", \"get\", \"get\", \"get\"]\n",
    "[[2], [1, 1], [2, 2], [1], [3, 3], [2], [4, 4], [1], [3], [4]]\n",
    "Output\n",
    "[null, null, null, 1, null, -1, null, -1, 3, 4]\n",
    "\n",
    "Explanation\n",
    "LRUCache lRUCache = new LRUCache(2);\n",
    "lRUCache.put(1, 1); // cache is {1=1}\n",
    "lRUCache.put(2, 2); // cache is {1=1, 2=2}\n",
    "lRUCache.get(1);    // return 1\n",
    "lRUCache.put(3, 3); // LRU key was 2, evicts key 2, cache is {1=1, 3=3}\n",
    "lRUCache.get(2);    // returns -1 (not found)\n",
    "lRUCache.put(4, 4); // LRU key was 1, evicts key 1, cache is {4=4, 3=3}\n",
    "lRUCache.get(1);    // return -1 (not found)\n",
    "lRUCache.get(3);    // return 3\n",
    "lRUCache.get(4);    // return 4\n",
    "```"
   ]
  },
  {
   "cell_type": "code",
   "execution_count": 51,
   "id": "1f23cd06-e16a-42e0-b649-db6209f730d4",
   "metadata": {},
   "outputs": [],
   "source": [
    "from collections import OrderedDict\n",
    "class LRUCache(OrderedDict):\n",
    "\n",
    "    def __init__(self, capacity):\n",
    "        \"\"\"\n",
    "        :type capacity: int\n",
    "        \"\"\"\n",
    "        self.capacity = capacity\n",
    "\n",
    "    def get(self, key):\n",
    "        \"\"\"\n",
    "        :type key: int\n",
    "        :rtype: int\n",
    "        \"\"\"\n",
    "        if key not in self:\n",
    "            return - 1\n",
    "        \n",
    "        self.move_to_end(key)\n",
    "        return self[key]\n",
    "\n",
    "    def put(self, key, value):\n",
    "        \"\"\"\n",
    "        :type key: int\n",
    "        :type value: int\n",
    "        :rtype: void\n",
    "        \"\"\"\n",
    "        if key in self:\n",
    "            self.move_to_end(key)\n",
    "        self[key] = value\n",
    "        if len(self) > self.capacity:\n",
    "            self.popitem(last = False)\n",
    "\n",
    "# Your LRUCache object will be instantiated and called as such:\n",
    "# obj = LRUCache(capacity)\n",
    "# param_1 = obj.get(key)\n",
    "# obj.put(key,value)"
   ]
  },
  {
   "cell_type": "code",
   "execution_count": 57,
   "id": "d59920e1-c7c0-4aa2-8d67-ebfad0ea4184",
   "metadata": {},
   "outputs": [
    {
     "name": "stdout",
     "output_type": "stream",
     "text": [
      "OrderedDict([(2, 2), (1, 1)])\n"
     ]
    }
   ],
   "source": [
    "d = OrderedDict()\n",
    "d[1] = 1\n",
    "d[2] = 2\n",
    "d.move_to_end(1)\n",
    "print(d)"
   ]
  },
  {
   "cell_type": "code",
   "execution_count": 55,
   "id": "1a4fb5e5-2c4e-4c0a-ade2-2a472c9eedc7",
   "metadata": {},
   "outputs": [
    {
     "name": "stdout",
     "output_type": "stream",
     "text": [
      "None\n",
      "None\n",
      "1\n",
      "None\n",
      "2\n",
      "None\n",
      "-1\n"
     ]
    },
    {
     "ename": "ValueError",
     "evalue": "list.remove(x): x not in list",
     "output_type": "error",
     "traceback": [
      "\u001b[0;31m---------------------------------------------------------------------------\u001b[0m",
      "\u001b[0;31mValueError\u001b[0m                                Traceback (most recent call last)",
      "\u001b[0;32m/var/folders/0s/jymfp69j54n12w613ymxj7vr0000gn/T/ipykernel_56104/3224878019.py\u001b[0m in \u001b[0;36m<module>\u001b[0;34m\u001b[0m\n\u001b[1;32m     10\u001b[0m \u001b[0mprint\u001b[0m\u001b[0;34m(\u001b[0m\u001b[0mobj\u001b[0m\u001b[0;34m.\u001b[0m\u001b[0mput\u001b[0m\u001b[0;34m(\u001b[0m\u001b[0;36m4\u001b[0m\u001b[0;34m,\u001b[0m\u001b[0;36m4\u001b[0m\u001b[0;34m)\u001b[0m\u001b[0;34m)\u001b[0m\u001b[0;34m\u001b[0m\u001b[0;34m\u001b[0m\u001b[0m\n\u001b[1;32m     11\u001b[0m \u001b[0mprint\u001b[0m\u001b[0;34m(\u001b[0m\u001b[0mobj\u001b[0m\u001b[0;34m.\u001b[0m\u001b[0mget\u001b[0m\u001b[0;34m(\u001b[0m\u001b[0;36m1\u001b[0m\u001b[0;34m)\u001b[0m\u001b[0;34m)\u001b[0m\u001b[0;34m\u001b[0m\u001b[0;34m\u001b[0m\u001b[0m\n\u001b[0;32m---> 12\u001b[0;31m \u001b[0mprint\u001b[0m\u001b[0;34m(\u001b[0m\u001b[0mobj\u001b[0m\u001b[0;34m.\u001b[0m\u001b[0mget\u001b[0m\u001b[0;34m(\u001b[0m\u001b[0;36m3\u001b[0m\u001b[0;34m)\u001b[0m\u001b[0;34m)\u001b[0m\u001b[0;34m\u001b[0m\u001b[0;34m\u001b[0m\u001b[0m\n\u001b[0m\u001b[1;32m     13\u001b[0m \u001b[0mprint\u001b[0m\u001b[0;34m(\u001b[0m\u001b[0mobj\u001b[0m\u001b[0;34m.\u001b[0m\u001b[0mget\u001b[0m\u001b[0;34m(\u001b[0m\u001b[0;36m4\u001b[0m\u001b[0;34m)\u001b[0m\u001b[0;34m)\u001b[0m\u001b[0;34m\u001b[0m\u001b[0;34m\u001b[0m\u001b[0m\n",
      "\u001b[0;32m/var/folders/0s/jymfp69j54n12w613ymxj7vr0000gn/T/ipykernel_56104/3481355498.py\u001b[0m in \u001b[0;36mget\u001b[0;34m(self, key)\u001b[0m\n\u001b[1;32m     21\u001b[0m             \u001b[0;32mreturn\u001b[0m \u001b[0;34m-\u001b[0m\u001b[0;36m1\u001b[0m\u001b[0;34m\u001b[0m\u001b[0;34m\u001b[0m\u001b[0m\n\u001b[1;32m     22\u001b[0m         \u001b[0;32melse\u001b[0m\u001b[0;34m:\u001b[0m\u001b[0;34m\u001b[0m\u001b[0;34m\u001b[0m\u001b[0m\n\u001b[0;32m---> 23\u001b[0;31m             \u001b[0mself\u001b[0m\u001b[0;34m.\u001b[0m\u001b[0mkeys_seq\u001b[0m\u001b[0;34m.\u001b[0m\u001b[0mremove\u001b[0m\u001b[0;34m(\u001b[0m\u001b[0mkey\u001b[0m\u001b[0;34m)\u001b[0m\u001b[0;34m\u001b[0m\u001b[0;34m\u001b[0m\u001b[0m\n\u001b[0m\u001b[1;32m     24\u001b[0m             \u001b[0mself\u001b[0m\u001b[0;34m.\u001b[0m\u001b[0mkeys_seq\u001b[0m\u001b[0;34m.\u001b[0m\u001b[0mappend\u001b[0m\u001b[0;34m(\u001b[0m\u001b[0mkey\u001b[0m\u001b[0;34m)\u001b[0m\u001b[0;34m\u001b[0m\u001b[0;34m\u001b[0m\u001b[0m\n\u001b[1;32m     25\u001b[0m             \u001b[0;32mreturn\u001b[0m \u001b[0mself\u001b[0m\u001b[0;34m.\u001b[0m\u001b[0mdmap\u001b[0m\u001b[0;34m[\u001b[0m\u001b[0mkey\u001b[0m\u001b[0;34m]\u001b[0m\u001b[0;34m[\u001b[0m\u001b[0;36m0\u001b[0m\u001b[0;34m]\u001b[0m\u001b[0;34m\u001b[0m\u001b[0;34m\u001b[0m\u001b[0m\n",
      "\u001b[0;31mValueError\u001b[0m: list.remove(x): x not in list"
     ]
    }
   ],
   "source": [
    "# Your LRUCache object will be instantiated and called as such:\n",
    "capacity = 2\n",
    "obj = LRUCache(capacity)\n",
    "# param_1 = obj.get(key)\n",
    "print(obj.put(1,1))\n",
    "print(obj.put(2,2))\n",
    "print(obj.get(1))\n",
    "print(obj.put(3,3))\n",
    "print(obj.get(2))\n",
    "print(obj.put(4,4))\n",
    "print(obj.get(1))\n",
    "print(obj.get(3))\n",
    "print(obj.get(4))"
   ]
  },
  {
   "cell_type": "code",
   "execution_count": 50,
   "id": "d0fff28e-31d0-476e-b023-1b801b690ead",
   "metadata": {},
   "outputs": [
    {
     "name": "stdout",
     "output_type": "stream",
     "text": [
      "None\n",
      "None\n",
      "None\n",
      "None\n",
      "-1\n",
      "3\n"
     ]
    }
   ],
   "source": [
    "# [\"LRUCache\",\"put\",\"put\",\"put\",\"put\",\"get\",\"get\"]\n",
    "# [[2],[2,1],[1,1],[2,3],[4,1],[1],[2]]\n",
    "\n",
    "# output \n",
    "# [null,null,null,null,null,-1,3]\n",
    "\n",
    "capacity = 2\n",
    "obj = LRUCache(capacity)\n",
    "\n",
    "print(obj.put(2,1))\n",
    "print(obj.put(1,1))\n",
    "print(obj.put(2,3))\n",
    "print(obj.put(4,1))\n",
    "print(obj.get(1))\n",
    "print(obj.get(2))"
   ]
  },
  {
   "cell_type": "code",
   "execution_count": 13,
   "id": "93b6ff89-f4c6-4726-aca6-b49f75054c97",
   "metadata": {},
   "outputs": [
    {
     "name": "stdout",
     "output_type": "stream",
     "text": [
      "q is [1, 5, 8]\n",
      "q is [5, 8]\n"
     ]
    }
   ],
   "source": [
    "q = []\n",
    "q.append(1)\n",
    "q.append(5)\n",
    "q.append(8)\n",
    "print(f'q is {q}')\n",
    "q.pop(0)\n",
    "print(f'q is {q}')"
   ]
  },
  {
   "cell_type": "code",
   "execution_count": 9,
   "id": "917c8803-9e00-4127-bc41-97e5446474a7",
   "metadata": {},
   "outputs": [
    {
     "name": "stdout",
     "output_type": "stream",
     "text": [
      "dmap is : {1: 9, 2: 8}\n"
     ]
    }
   ],
   "source": [
    "dmap = {}\n",
    "dmap[1] = 3\n",
    "dmap[2] = 8\n",
    "# dmap[1] = 9\n",
    "print(f'dmap is : {dmap}')\n"
   ]
  },
  {
   "cell_type": "code",
   "execution_count": 69,
   "id": "bc2cce5d-0c1d-4a6a-bcbf-2ce99f0a838e",
   "metadata": {},
   "outputs": [],
   "source": [
    "def isValid(s: str) -> bool:\n",
    "    in_stack = []\n",
    "    for ss in s:\n",
    "        if ss == '(' or ss == '[' or ss == '{':\n",
    "            in_stack.append(ss)\n",
    "        else:\n",
    "            if len(in_stack) == 0:\n",
    "                return False\n",
    "            pop_item = in_stack.pop()\n",
    "            if (pop_item == '(' and ss == ')') or (pop_item == '{' and ss == '}') or (pop_item == '[' and ss == ']'):\n",
    "                continue\n",
    "            else:\n",
    "                return False\n",
    "    if len(in_stack) == 0:\n",
    "        return True\n",
    "    return False"
   ]
  },
  {
   "cell_type": "code",
   "execution_count": 73,
   "id": "1a094d85-2c4e-4f53-9c65-81f7661102fc",
   "metadata": {},
   "outputs": [
    {
     "name": "stdout",
     "output_type": "stream",
     "text": [
      "False\n"
     ]
    }
   ],
   "source": [
    "# input_str = \"([)]\"\n",
    "input_str = \"((())[]\"\n",
    "print(isValid(input_str))"
   ]
  },
  {
   "cell_type": "code",
   "execution_count": 64,
   "id": "c9b93c91-139b-4bd2-b6d9-6ad12c2cc624",
   "metadata": {},
   "outputs": [
    {
     "name": "stdout",
     "output_type": "stream",
     "text": [
      "['a', 'z', 'c']\n"
     ]
    }
   ],
   "source": [
    "test = []\n",
    "test.append('a')\n",
    "test.append('z')\n",
    "test.append('c')\n",
    "print(test)"
   ]
  },
  {
   "cell_type": "code",
   "execution_count": 65,
   "id": "eb4c78b0-6401-41df-9a18-c93df5287546",
   "metadata": {},
   "outputs": [
    {
     "name": "stdout",
     "output_type": "stream",
     "text": [
      "c\n"
     ]
    }
   ],
   "source": [
    "t = test.pop()\n",
    "print(t)"
   ]
  },
  {
   "cell_type": "code",
   "execution_count": null,
   "id": "7bca0323-301a-46e6-8454-b5212aa53dc6",
   "metadata": {},
   "outputs": [],
   "source": []
  }
 ],
 "metadata": {
  "kernelspec": {
   "display_name": "Python 3 (ipykernel)",
   "language": "python",
   "name": "python3"
  },
  "language_info": {
   "codemirror_mode": {
    "name": "ipython",
    "version": 3
   },
   "file_extension": ".py",
   "mimetype": "text/x-python",
   "name": "python",
   "nbconvert_exporter": "python",
   "pygments_lexer": "ipython3",
   "version": "3.8.12"
  }
 },
 "nbformat": 4,
 "nbformat_minor": 5
}
